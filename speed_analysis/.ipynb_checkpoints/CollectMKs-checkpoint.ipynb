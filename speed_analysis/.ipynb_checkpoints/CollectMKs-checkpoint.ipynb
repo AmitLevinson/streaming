{
 "cells": [
  {
   "cell_type": "code",
   "execution_count": 73,
   "id": "5d60872a",
   "metadata": {},
   "outputs": [],
   "source": [
    "import os\n",
    "import configparser\n",
    "import tweepy as tw\n",
    "import pandas as pd"
   ]
  },
  {
   "cell_type": "code",
   "execution_count": 75,
   "id": "acdcc370",
   "metadata": {},
   "outputs": [],
   "source": [
    "# file = open('../../tokens.txt')\n",
    "# read = file.read()\n",
    "\n",
    "parser = configparser.ConfigParser()\n",
    "parser.read(\"../../tokens.txt\")\n",
    "\n",
    "# auth = tw.OAuthHandler(parser.get(\"Twitter\", \"tw_ApiKey\"), parser.get(\"Twitter\", \"tw_ApiKeySecret\"))\n",
    "# auth.set_access_token(parser.get(\"Twitter\", \"tw_AccessToken\"), parser.get(\"Twitter\", \"tw_AccessTokenSecret\"))\n",
    "api = tw.API(auth, wait_on_rate_limit=True)"
   ]
  },
  {
   "cell_type": "code",
   "execution_count": 21,
   "id": "37bb8079",
   "metadata": {},
   "outputs": [],
   "source": [
    "search_words = '#rstats'\n",
    "date_since = '2021-01-01'"
   ]
  },
  {
   "cell_type": "code",
   "execution_count": 68,
   "id": "088dd28a",
   "metadata": {},
   "outputs": [],
   "source": [
    "# new_teets = \n",
    "new_tweets = api.user_timeline(screen_name='@netanyahu',\n",
    "                                      count=15000, tweet_mode='extended', max_id= 1000)"
   ]
  },
  {
   "cell_type": "code",
   "execution_count": 67,
   "id": "c2bb0984",
   "metadata": {},
   "outputs": [
    {
     "name": "stdout",
     "output_type": "stream",
     "text": [
      "Help on method user_timeline in module tweepy.api:\n",
      "\n",
      "user_timeline(**kwargs) method of tweepy.api.API instance\n",
      "    user_timeline(*, user_id, screen_name, since_id, count, max_id,                          trim_user, exclude_replies, include_rts)\n",
      "    \n",
      "    Returns the 20 most recent statuses posted from the authenticating user\n",
      "    or the user specified. It's also possible to request another user's\n",
      "    timeline via the id parameter.\n",
      "    \n",
      "    Parameters\n",
      "    ----------\n",
      "    user_id\n",
      "        |user_id|\n",
      "    screen_name\n",
      "        |screen_name|\n",
      "    since_id\n",
      "        |since_id|\n",
      "    count\n",
      "        |count|\n",
      "    max_id\n",
      "        |max_id|\n",
      "    trim_user\n",
      "        |trim_user|\n",
      "    exclude_replies\n",
      "        |exclude_replies|\n",
      "    include_rts\n",
      "        When set to ``false``, the timeline will strip any native retweets\n",
      "        (though they will still count toward both the maximal length of the\n",
      "        timeline and the slice selected by the count parameter). Note: If\n",
      "        you're using the trim_user parameter in conjunction with\n",
      "        include_rts, the retweets will still contain a full user object.\n",
      "    \n",
      "    Returns\n",
      "    -------\n",
      "    :py:class:`List`\\[:class:`~tweepy.models.Status`]\n",
      "    \n",
      "    References\n",
      "    ----------\n",
      "    https://developer.twitter.com/en/docs/twitter-api/v1/tweets/timelines/api-reference/get-statuses-user_timeline\n",
      "\n"
     ]
    }
   ],
   "source": [
    "help(api.user_timeline)"
   ]
  },
  {
   "cell_type": "code",
   "execution_count": 78,
   "id": "d340e41c",
   "metadata": {},
   "outputs": [
    {
     "ename": "NameError",
     "evalue": "name 'cursor' is not defined",
     "output_type": "error",
     "traceback": [
      "\u001b[1;31m---------------------------------------------------------------------------\u001b[0m",
      "\u001b[1;31mNameError\u001b[0m                                 Traceback (most recent call last)",
      "\u001b[1;32m~\\AppData\\Local\\Temp/ipykernel_14956/3155598635.py\u001b[0m in \u001b[0;36m<module>\u001b[1;34m\u001b[0m\n\u001b[0;32m      3\u001b[0m \u001b[1;33m\u001b[0m\u001b[0m\n\u001b[0;32m      4\u001b[0m \u001b[1;31m# Replace the limit=1000 with the maximum number of Tweets you want\u001b[0m\u001b[1;33m\u001b[0m\u001b[1;33m\u001b[0m\u001b[0m\n\u001b[1;32m----> 5\u001b[1;33m for tweet in tw.Paginator(cursor.search_recent_tweets, query=query,\n\u001b[0m\u001b[0;32m      6\u001b[0m                               tweet_fields=['context_annotations', 'created_at'], max_results=100).flatten(limit=1000):\n\u001b[0;32m      7\u001b[0m     \u001b[0mprint\u001b[0m\u001b[1;33m(\u001b[0m\u001b[0mtweet\u001b[0m\u001b[1;33m.\u001b[0m\u001b[0mid\u001b[0m\u001b[1;33m)\u001b[0m\u001b[1;33m\u001b[0m\u001b[1;33m\u001b[0m\u001b[0m\n",
      "\u001b[1;31mNameError\u001b[0m: name 'cursor' is not defined"
     ]
    }
   ],
   "source": [
    "# Replace with your own search query\n",
    "query = 'covid -is:retweet'\n",
    "\n",
    "# Replace the limit=1000 with the maximum number of Tweets you want\n",
    "for tweet in tw.Paginator(cursor.search_recent_tweets, query=query,\n",
    "                              tweet_fields=['context_annotations', 'created_at'], max_results=100).flatten(limit=1000):\n",
    "    print(tweet.id)"
   ]
  }
 ],
 "metadata": {
  "kernelspec": {
   "display_name": "Python 3 (ipykernel)",
   "language": "python",
   "name": "python3"
  },
  "language_info": {
   "codemirror_mode": {
    "name": "ipython",
    "version": 3
   },
   "file_extension": ".py",
   "mimetype": "text/x-python",
   "name": "python",
   "nbconvert_exporter": "python",
   "pygments_lexer": "ipython3",
   "version": "3.10.1"
  }
 },
 "nbformat": 4,
 "nbformat_minor": 5
}
